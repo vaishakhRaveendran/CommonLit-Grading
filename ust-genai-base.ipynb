{
 "cells": [
  {
   "cell_type": "code",
   "execution_count": 1,
   "id": "66dbb85f",
   "metadata": {
    "_cell_guid": "b1076dfc-b9ad-4769-8c92-a6c4dae69d19",
    "_uuid": "8f2839f25d086af736a60e9eeb907d3b93b6e0e5",
    "execution": {
     "iopub.execute_input": "2023-09-01T12:15:11.452873Z",
     "iopub.status.busy": "2023-09-01T12:15:11.452508Z",
     "iopub.status.idle": "2023-09-01T12:15:11.465110Z",
     "shell.execute_reply": "2023-09-01T12:15:11.463660Z"
    },
    "papermill": {
     "duration": 0.021786,
     "end_time": "2023-09-01T12:15:11.467277",
     "exception": false,
     "start_time": "2023-09-01T12:15:11.445491",
     "status": "completed"
    },
    "tags": []
   },
   "outputs": [
    {
     "name": "stdout",
     "output_type": "stream",
     "text": [
      "/kaggle/input/commonlit-evaluate-student-summaries/sample_submission.csv\n",
      "/kaggle/input/commonlit-evaluate-student-summaries/prompts_train.csv\n",
      "/kaggle/input/commonlit-evaluate-student-summaries/summaries_test.csv\n",
      "/kaggle/input/commonlit-evaluate-student-summaries/summaries_train.csv\n",
      "/kaggle/input/commonlit-evaluate-student-summaries/prompts_test.csv\n"
     ]
    }
   ],
   "source": [
    "# This Python 3 environment comes with many helpful analytics libraries installed\n",
    "# It is defined by the kaggle/python Docker image: https://github.com/kaggle/docker-python\n",
    "# For example, here's several helpful packages to load\n",
    "\n",
    "import numpy as np # linear algebra\n",
    "import pandas as pd # data processing, CSV file I/O (e.g. pd.read_csv)\n",
    "\n",
    "# Input data files are available in the read-only \"../input/\" directory\n",
    "# For example, running this (by clicking run or pressing Shift+Enter) will list all files under the input directory\n",
    "\n",
    "import os\n",
    "for dirname, _, filenames in os.walk('/kaggle/input'):\n",
    "    for filename in filenames:\n",
    "        print(os.path.join(dirname, filename))\n",
    "\n",
    "# You can write up to 20GB to the current directory (/kaggle/working/) that gets preserved as output when you create a version using \"Save & Run All\" \n",
    "# You can also write temporary files to /kaggle/temp/, but they won't be saved outside of the current session"
   ]
  },
  {
   "cell_type": "code",
   "execution_count": 2,
   "id": "cb106b84",
   "metadata": {
    "execution": {
     "iopub.execute_input": "2023-09-01T12:15:11.478328Z",
     "iopub.status.busy": "2023-09-01T12:15:11.477877Z",
     "iopub.status.idle": "2023-09-01T12:15:11.484172Z",
     "shell.execute_reply": "2023-09-01T12:15:11.483143Z"
    },
    "papermill": {
     "duration": 0.014268,
     "end_time": "2023-09-01T12:15:11.486395",
     "exception": false,
     "start_time": "2023-09-01T12:15:11.472127",
     "status": "completed"
    },
    "tags": []
   },
   "outputs": [],
   "source": [
    "def print_tuple(obs):\n",
    "    print(\"\\033[1mprompt_question: \\033[0m\", obs.prompt_question)\n",
    "    print()\n",
    "    print(\"\\033[1mprompt_title: \\033[0m\", obs.prompt_title)\n",
    "    print()\n",
    "    print(\"\\033[1mprompt_text: \\033[0m\")\n",
    "    print(obs.prompt_text)\n",
    "    print()\n",
    "    print(\"\\033[1msummary: \\033[0m\")\n",
    "    print(obs.text)\n",
    "    print()\n",
    "    print(\"\\033[1mWording: \\033[0m\")\n",
    "    print(obs.wording)\n",
    "    print()\n",
    "    print(\"\\033[1mContent: \\033[0m\")\n",
    "    print(obs.content)\n",
    "    "
   ]
  },
  {
   "cell_type": "code",
   "execution_count": 3,
   "id": "5d2fe960",
   "metadata": {
    "execution": {
     "iopub.execute_input": "2023-09-01T12:15:11.497869Z",
     "iopub.status.busy": "2023-09-01T12:15:11.496817Z",
     "iopub.status.idle": "2023-09-01T12:15:11.688775Z",
     "shell.execute_reply": "2023-09-01T12:15:11.687690Z"
    },
    "papermill": {
     "duration": 0.200198,
     "end_time": "2023-09-01T12:15:11.691193",
     "exception": false,
     "start_time": "2023-09-01T12:15:11.490995",
     "status": "completed"
    },
    "tags": []
   },
   "outputs": [],
   "source": [
    "#Filepath\n",
    "FILE_PATH='/kaggle/input/commonlit-evaluate-student-summaries'\n",
    "#train set\n",
    "pmt_train=pd.read_csv(os.path.join(FILE_PATH,'prompts_train.csv'))\n",
    "sum_train=pd.read_csv(os.path.join(FILE_PATH,'summaries_train.csv'))\n",
    "df_train=pmt_train.merge(sum_train,how='inner',on='prompt_id')\n",
    "#we actually dont want student_id or prompt_id for training hence dropping those.\n",
    "df_train.drop(['student_id','prompt_id'],axis=1,inplace=True)"
   ]
  },
  {
   "cell_type": "code",
   "execution_count": 4,
   "id": "98d05e9e",
   "metadata": {
    "execution": {
     "iopub.execute_input": "2023-09-01T12:15:11.702692Z",
     "iopub.status.busy": "2023-09-01T12:15:11.701795Z",
     "iopub.status.idle": "2023-09-01T12:15:11.713545Z",
     "shell.execute_reply": "2023-09-01T12:15:11.711984Z"
    },
    "papermill": {
     "duration": 0.019686,
     "end_time": "2023-09-01T12:15:11.715625",
     "exception": false,
     "start_time": "2023-09-01T12:15:11.695939",
     "status": "completed"
    },
    "tags": []
   },
   "outputs": [
    {
     "name": "stdout",
     "output_type": "stream",
     "text": [
      "On Tragedy                   2057\n",
      "Egyptian Social Structure    2009\n",
      "Excerpt from The Jungle      1996\n",
      "The Third Wave               1103\n",
      "Name: prompt_title, dtype: int64\n"
     ]
    }
   ],
   "source": [
    "#Checking whether we got a balanced dataset\n",
    "print(df_train['prompt_title'].value_counts())\n",
    "#shuffling the dataset\n",
    "df_train=df_train.sample(frac=0.1)"
   ]
  },
  {
   "cell_type": "code",
   "execution_count": 5,
   "id": "ba4a87aa",
   "metadata": {
    "execution": {
     "iopub.execute_input": "2023-09-01T12:15:11.726771Z",
     "iopub.status.busy": "2023-09-01T12:15:11.726375Z",
     "iopub.status.idle": "2023-09-01T12:15:11.734317Z",
     "shell.execute_reply": "2023-09-01T12:15:11.733427Z"
    },
    "papermill": {
     "duration": 0.016921,
     "end_time": "2023-09-01T12:15:11.737215",
     "exception": false,
     "start_time": "2023-09-01T12:15:11.720294",
     "status": "completed"
    },
    "tags": []
   },
   "outputs": [
    {
     "name": "stdout",
     "output_type": "stream",
     "text": [
      "\u001b[1mprompt_question: \u001b[0m Summarize at least 3 elements of an ideal tragedy, as described by Aristotle.\n",
      "\n",
      "\u001b[1mprompt_title: \u001b[0m On Tragedy\n",
      "\n",
      "\u001b[1mprompt_text: \u001b[0m\n",
      "Chapter 13 \r\n",
      "As the sequel to what has already been said, we must proceed to consider what the poet should aim at, and what he should avoid, in constructing his plots; and by what means the specific effect of Tragedy will be produced. \r\n",
      "A perfect tragedy should, as we have seen, be arranged not on the simple but on the complex plan. It should, moreover, imitate actions which excite pity and fear, this being the distinctive mark of tragic imitation. It follows plainly, in the first place, that the change of fortune presented must not be the spectacle of a virtuous man brought from prosperity to adversity: for this moves neither pity nor fear; it merely shocks us. Nor, again, that of a bad man passing from adversity to prosperity: for nothing can be more alien to the spirit of Tragedy; it possesses no single tragic quality; it neither satisfies the moral sense nor calls forth pity or fear. Nor, again, should the downfall of the utter villain be exhibited. A plot of this kind would, doubtless, satisfy the moral sense, but it would inspire neither pity nor fear; for pity is aroused by unmerited misfortune, fear by the misfortune of a man like ourselves. Such an event, therefore, will be neither pitiful nor terrible. There remains, then, the character between these two extremes — that of a man who is not eminently good and just, yet whose misfortune is brought about not by vice or depravity, but by some error of judgement or frailty. He must be one who is highly renowned and prosperous — a personage like Oedipus, Thyestes, or other illustrious men of such families. \r\n",
      "A well-constructed plot should, therefore, be single in its issue, rather than double as some maintain. The change of fortune should be not from bad to good, but, reversely, from good to bad. It should come about as the result not of vice, but of some great error or frailty, in a character either such as we have described, or better rather than worse. The practice of the stage bears out our view. At first the poets recounted any legend that came in their way. Now, the best tragedies are founded on the story of a few houses — on the fortunes of Alcmaeon, Oedipus, Orestes, Meleager, Thyestes, Telephus, and those others who have done or suffered something terrible. A tragedy, then, to be perfect according to the rules of art, should be of this construction. Hence they are in error who censure Euripides just because he follows this principle in his plays, many of which end unhappily. It is, as we have said, the right ending. The best proof is that on the stage and in dramatic competition, such plays, if well worked out, are the most tragic in effect; and Euripides, faulty though he may be in the general management of his subject, yet is felt to be the most tragic of the poets. \r\n",
      "In the second rank comes the kind of tragedy which some place first. Like the Odyssey, it has a double thread of plot, and also an opposite catastrophe for the good and for the bad. It is accounted the best because of the weakness of the spectators; for the poet is guided in what he writes by the wishes of his audience. The pleasure, however, thence derived is not the true tragic pleasure. It is proper rather to Comedy, where those who, in the piece, are the deadliest enemies — like Orestes and Aegisthus — quit the stage as friends at the close, and no one slays or is slain.\n",
      "\n",
      "\u001b[1msummary: \u001b[0m\n",
      "One element of an ideal tragedy is to have a complex plan.  In paragraph 2, Aristotle explained, \"imitate actions which excite pity and fear, this being the distinctive mark of tragic imitation.\" This shows that a good balance of pity and fear brings the emotions out of the audience.  The second element is there should only be one issue. This issue should be good to bad because it brings out the most tragedy in plays. The third element is the main character should have a change from good to bad. \n",
      "\n",
      "\u001b[1mWording: \u001b[0m\n",
      "-0.04543859410258\n",
      "\n",
      "\u001b[1mContent: \u001b[0m\n",
      "-0.0024657138419762\n",
      "\u001b[1mprompt_question: \u001b[0m In complete sentences, summarize the structure of the ancient Egyptian system of government. How were different social classes involved in this government? Cite evidence from the text.\n",
      "\n",
      "\u001b[1mprompt_title: \u001b[0m Egyptian Social Structure\n",
      "\n",
      "\u001b[1mprompt_text: \u001b[0m\n",
      "Egyptian society was structured like a pyramid. At the top were the gods, such as Ra, Osiris, and Isis. Egyptians believed that the gods controlled the universe. Therefore, it was important to keep them happy. They could make the Nile overflow, cause famine, or even bring death. \r\n",
      "The Egyptians also elevated some human beings to gods. Their leaders, called pharaohs, were believed to be gods in human form. They had absolute power over their subjects. After pharaohs died, huge stone pyramids were built as their tombs. Pharaohs were buried in chambers within the pyramids. \r\n",
      "Because the people of Egypt believed that their pharaohs were gods, they entrusted their rulers with many responsibilities. Protection was at the top of the list. The pharaoh directed the army in case of a foreign threat or an internal conflict. All laws were enacted at the discretion of the pharaoh. Each farmer paid taxes in the form of grains, which were stored in the pharaoh’s warehouses. This grain was used to feed the people in the event of a famine. \r\n",
      "The Chain of Command \r\n",
      "No single person could manage all these duties without assistance. The pharaoh appointed a chief minister called a vizier as a supervisor. The vizier ensured that taxes were collected. \r\n",
      "Working with the vizier were scribes who kept government records. These high-level employees had mastered a rare skill in ancient Egypt — they could read and write. \r\n",
      "Noble Aims \r\n",
      "Right below the pharaoh in status were powerful nobles and priests. Only nobles could hold government posts; in these positions they profited from tributes paid to the pharaoh. Priests were responsible for pleasing the gods. \r\n",
      "Nobles enjoyed great status and also grew wealthy from donations to the gods. All Egyptians—from pharaohs to farmers—gave gifts to the gods. \r\n",
      "Soldier On \r\n",
      "Soldiers fought in wars or quelled domestic uprisings. During long periods of peace, soldiers also supervised the peasants, farmers, and slaves who were involved in building such structures as pyramids and palaces. \r\n",
      "Skilled workers such as physicians and craftsmen/women made up the middle class. Craftsmen made and sold jewelry, pottery, papyrus products, tools, and other useful things. \r\n",
      "Naturally, there were people needed to buy goods from artisans and traders. These were the merchants and storekeepers who sold these goods to the public. \r\n",
      "The Bottom of the Heap \r\n",
      "At the bottom of the social structure were slaves and farmers. Slavery became the fate of those captured as prisoners of war. In addition to being forced to work on building projects, slaves toiled at the discretion of the pharaoh or nobles. \r\n",
      "Farmers tended the fields, raised animals, kept canals and reservoirs in good order, worked in the stone quarries, and built the royal monuments. Farmers paid taxes that could amount to as much as 60% of their yearly harvest—that’s a lot of hay! \r\n",
      "Social mobility was not impossible. A small number of peasants and farmers moved up the economic ladder. Families saved money to send their sons to village schools to learn trades. These schools were run by priests or by artisans. Boys who learned to read and write could become scribes, then go on to gain employment in the government. It was possible for a boy born on a farm to work his way up into the higher ranks of the government. Bureaucracy proved lucrative.\n",
      "\n",
      "\u001b[1msummary: \u001b[0m\n",
      "In ancient Egypt, most of the government was made up of strong, wealthy people, but some that were poor climbed the social ladder to where they were. I know this because the text states \"Boys who learned to read and write could become scribes, then go on to gain employment in the government.\". So this proves, that even if you come from nothing, you can have a good life if you study long and hard.\n",
      "\n",
      "\u001b[1mWording: \u001b[0m\n",
      "0.380537638762288\n",
      "\n",
      "\u001b[1mContent: \u001b[0m\n",
      "0.205682506482641\n",
      "\u001b[1mprompt_question: \u001b[0m In complete sentences, summarize the structure of the ancient Egyptian system of government. How were different social classes involved in this government? Cite evidence from the text.\n",
      "\n",
      "\u001b[1mprompt_title: \u001b[0m Egyptian Social Structure\n",
      "\n",
      "\u001b[1mprompt_text: \u001b[0m\n",
      "Egyptian society was structured like a pyramid. At the top were the gods, such as Ra, Osiris, and Isis. Egyptians believed that the gods controlled the universe. Therefore, it was important to keep them happy. They could make the Nile overflow, cause famine, or even bring death. \r\n",
      "The Egyptians also elevated some human beings to gods. Their leaders, called pharaohs, were believed to be gods in human form. They had absolute power over their subjects. After pharaohs died, huge stone pyramids were built as their tombs. Pharaohs were buried in chambers within the pyramids. \r\n",
      "Because the people of Egypt believed that their pharaohs were gods, they entrusted their rulers with many responsibilities. Protection was at the top of the list. The pharaoh directed the army in case of a foreign threat or an internal conflict. All laws were enacted at the discretion of the pharaoh. Each farmer paid taxes in the form of grains, which were stored in the pharaoh’s warehouses. This grain was used to feed the people in the event of a famine. \r\n",
      "The Chain of Command \r\n",
      "No single person could manage all these duties without assistance. The pharaoh appointed a chief minister called a vizier as a supervisor. The vizier ensured that taxes were collected. \r\n",
      "Working with the vizier were scribes who kept government records. These high-level employees had mastered a rare skill in ancient Egypt — they could read and write. \r\n",
      "Noble Aims \r\n",
      "Right below the pharaoh in status were powerful nobles and priests. Only nobles could hold government posts; in these positions they profited from tributes paid to the pharaoh. Priests were responsible for pleasing the gods. \r\n",
      "Nobles enjoyed great status and also grew wealthy from donations to the gods. All Egyptians—from pharaohs to farmers—gave gifts to the gods. \r\n",
      "Soldier On \r\n",
      "Soldiers fought in wars or quelled domestic uprisings. During long periods of peace, soldiers also supervised the peasants, farmers, and slaves who were involved in building such structures as pyramids and palaces. \r\n",
      "Skilled workers such as physicians and craftsmen/women made up the middle class. Craftsmen made and sold jewelry, pottery, papyrus products, tools, and other useful things. \r\n",
      "Naturally, there were people needed to buy goods from artisans and traders. These were the merchants and storekeepers who sold these goods to the public. \r\n",
      "The Bottom of the Heap \r\n",
      "At the bottom of the social structure were slaves and farmers. Slavery became the fate of those captured as prisoners of war. In addition to being forced to work on building projects, slaves toiled at the discretion of the pharaoh or nobles. \r\n",
      "Farmers tended the fields, raised animals, kept canals and reservoirs in good order, worked in the stone quarries, and built the royal monuments. Farmers paid taxes that could amount to as much as 60% of their yearly harvest—that’s a lot of hay! \r\n",
      "Social mobility was not impossible. A small number of peasants and farmers moved up the economic ladder. Families saved money to send their sons to village schools to learn trades. These schools were run by priests or by artisans. Boys who learned to read and write could become scribes, then go on to gain employment in the government. It was possible for a boy born on a farm to work his way up into the higher ranks of the government. Bureaucracy proved lucrative.\n",
      "\n",
      "\u001b[1msummary: \u001b[0m\n",
      "There were 3 diffrent social classes. Lower class, Middle class, and upper class. The lower class got involved in the goveremnt by being a slave for someone and do labor. Being in the middle class you can be involved by being a farmer,merchant,artisan etc. If your in the upper class you can involved by being a slave owner or being a high rank like a priest or noble. \n",
      "\n",
      "\u001b[1mWording: \u001b[0m\n",
      "1.13326300065856\n",
      "\n",
      "\u001b[1mContent: \u001b[0m\n",
      "0.440019660878631\n",
      "\u001b[1mprompt_question: \u001b[0m In complete sentences, summarize the structure of the ancient Egyptian system of government. How were different social classes involved in this government? Cite evidence from the text.\n",
      "\n",
      "\u001b[1mprompt_title: \u001b[0m Egyptian Social Structure\n",
      "\n",
      "\u001b[1mprompt_text: \u001b[0m\n",
      "Egyptian society was structured like a pyramid. At the top were the gods, such as Ra, Osiris, and Isis. Egyptians believed that the gods controlled the universe. Therefore, it was important to keep them happy. They could make the Nile overflow, cause famine, or even bring death. \r\n",
      "The Egyptians also elevated some human beings to gods. Their leaders, called pharaohs, were believed to be gods in human form. They had absolute power over their subjects. After pharaohs died, huge stone pyramids were built as their tombs. Pharaohs were buried in chambers within the pyramids. \r\n",
      "Because the people of Egypt believed that their pharaohs were gods, they entrusted their rulers with many responsibilities. Protection was at the top of the list. The pharaoh directed the army in case of a foreign threat or an internal conflict. All laws were enacted at the discretion of the pharaoh. Each farmer paid taxes in the form of grains, which were stored in the pharaoh’s warehouses. This grain was used to feed the people in the event of a famine. \r\n",
      "The Chain of Command \r\n",
      "No single person could manage all these duties without assistance. The pharaoh appointed a chief minister called a vizier as a supervisor. The vizier ensured that taxes were collected. \r\n",
      "Working with the vizier were scribes who kept government records. These high-level employees had mastered a rare skill in ancient Egypt — they could read and write. \r\n",
      "Noble Aims \r\n",
      "Right below the pharaoh in status were powerful nobles and priests. Only nobles could hold government posts; in these positions they profited from tributes paid to the pharaoh. Priests were responsible for pleasing the gods. \r\n",
      "Nobles enjoyed great status and also grew wealthy from donations to the gods. All Egyptians—from pharaohs to farmers—gave gifts to the gods. \r\n",
      "Soldier On \r\n",
      "Soldiers fought in wars or quelled domestic uprisings. During long periods of peace, soldiers also supervised the peasants, farmers, and slaves who were involved in building such structures as pyramids and palaces. \r\n",
      "Skilled workers such as physicians and craftsmen/women made up the middle class. Craftsmen made and sold jewelry, pottery, papyrus products, tools, and other useful things. \r\n",
      "Naturally, there were people needed to buy goods from artisans and traders. These were the merchants and storekeepers who sold these goods to the public. \r\n",
      "The Bottom of the Heap \r\n",
      "At the bottom of the social structure were slaves and farmers. Slavery became the fate of those captured as prisoners of war. In addition to being forced to work on building projects, slaves toiled at the discretion of the pharaoh or nobles. \r\n",
      "Farmers tended the fields, raised animals, kept canals and reservoirs in good order, worked in the stone quarries, and built the royal monuments. Farmers paid taxes that could amount to as much as 60% of their yearly harvest—that’s a lot of hay! \r\n",
      "Social mobility was not impossible. A small number of peasants and farmers moved up the economic ladder. Families saved money to send their sons to village schools to learn trades. These schools were run by priests or by artisans. Boys who learned to read and write could become scribes, then go on to gain employment in the government. It was possible for a boy born on a farm to work his way up into the higher ranks of the government. Bureaucracy proved lucrative.\n",
      "\n",
      "\u001b[1msummary: \u001b[0m\n",
      "The ancient Eygption system was ordered on power of people and more. THe order of the eygption system was at top to bottom starting from Pharaoh,vizier,nobles and priests,scribes and soliders,craftsmen, and farms and slaves. They use the system in many ways.\n",
      "\n",
      "\u001b[1mWording: \u001b[0m\n",
      "0.503832933489619\n",
      "\n",
      "\u001b[1mContent: \u001b[0m\n",
      "-0.0938138317174397\n",
      "\u001b[1mprompt_question: \u001b[0m Summarize at least 3 elements of an ideal tragedy, as described by Aristotle.\n",
      "\n",
      "\u001b[1mprompt_title: \u001b[0m On Tragedy\n",
      "\n",
      "\u001b[1mprompt_text: \u001b[0m\n",
      "Chapter 13 \r\n",
      "As the sequel to what has already been said, we must proceed to consider what the poet should aim at, and what he should avoid, in constructing his plots; and by what means the specific effect of Tragedy will be produced. \r\n",
      "A perfect tragedy should, as we have seen, be arranged not on the simple but on the complex plan. It should, moreover, imitate actions which excite pity and fear, this being the distinctive mark of tragic imitation. It follows plainly, in the first place, that the change of fortune presented must not be the spectacle of a virtuous man brought from prosperity to adversity: for this moves neither pity nor fear; it merely shocks us. Nor, again, that of a bad man passing from adversity to prosperity: for nothing can be more alien to the spirit of Tragedy; it possesses no single tragic quality; it neither satisfies the moral sense nor calls forth pity or fear. Nor, again, should the downfall of the utter villain be exhibited. A plot of this kind would, doubtless, satisfy the moral sense, but it would inspire neither pity nor fear; for pity is aroused by unmerited misfortune, fear by the misfortune of a man like ourselves. Such an event, therefore, will be neither pitiful nor terrible. There remains, then, the character between these two extremes — that of a man who is not eminently good and just, yet whose misfortune is brought about not by vice or depravity, but by some error of judgement or frailty. He must be one who is highly renowned and prosperous — a personage like Oedipus, Thyestes, or other illustrious men of such families. \r\n",
      "A well-constructed plot should, therefore, be single in its issue, rather than double as some maintain. The change of fortune should be not from bad to good, but, reversely, from good to bad. It should come about as the result not of vice, but of some great error or frailty, in a character either such as we have described, or better rather than worse. The practice of the stage bears out our view. At first the poets recounted any legend that came in their way. Now, the best tragedies are founded on the story of a few houses — on the fortunes of Alcmaeon, Oedipus, Orestes, Meleager, Thyestes, Telephus, and those others who have done or suffered something terrible. A tragedy, then, to be perfect according to the rules of art, should be of this construction. Hence they are in error who censure Euripides just because he follows this principle in his plays, many of which end unhappily. It is, as we have said, the right ending. The best proof is that on the stage and in dramatic competition, such plays, if well worked out, are the most tragic in effect; and Euripides, faulty though he may be in the general management of his subject, yet is felt to be the most tragic of the poets. \r\n",
      "In the second rank comes the kind of tragedy which some place first. Like the Odyssey, it has a double thread of plot, and also an opposite catastrophe for the good and for the bad. It is accounted the best because of the weakness of the spectators; for the poet is guided in what he writes by the wishes of his audience. The pleasure, however, thence derived is not the true tragic pleasure. It is proper rather to Comedy, where those who, in the piece, are the deadliest enemies — like Orestes and Aegisthus — quit the stage as friends at the close, and no one slays or is slain.\n",
      "\n",
      "\u001b[1msummary: \u001b[0m\n",
      "Must happen to someone to whom you can relate. It must have a complex storyline \"imitating actions that excite pity and fear.\" Lastly, it has to be a change in fortune, bu even then, it can't be a vice. Has to be out of the character's control.\n",
      "\n",
      "\u001b[1mWording: \u001b[0m\n",
      "-0.927076560845392\n",
      "\n",
      "\u001b[1mContent: \u001b[0m\n",
      "-0.425248058945738\n"
     ]
    }
   ],
   "source": [
    "import random\n",
    "index=random.randint(0,len(df_train)-3)\n",
    "for x in range(index,index+5):\n",
    "    print_tuple(df_train.iloc[x])"
   ]
  },
  {
   "cell_type": "code",
   "execution_count": 6,
   "id": "7b12d7c7",
   "metadata": {
    "execution": {
     "iopub.execute_input": "2023-09-01T12:15:11.749337Z",
     "iopub.status.busy": "2023-09-01T12:15:11.748905Z",
     "iopub.status.idle": "2023-09-01T12:15:11.755407Z",
     "shell.execute_reply": "2023-09-01T12:15:11.754221Z"
    },
    "papermill": {
     "duration": 0.015088,
     "end_time": "2023-09-01T12:15:11.757578",
     "exception": false,
     "start_time": "2023-09-01T12:15:11.742490",
     "status": "completed"
    },
    "tags": []
   },
   "outputs": [],
   "source": [
    "#defining the dependent and independent variables\n",
    "X=df_train.iloc[:,:-2]\n",
    "y_word=df_train.iloc[:,-1]\n",
    "y_cont=df_train.iloc[:,-2]"
   ]
  },
  {
   "cell_type": "code",
   "execution_count": 7,
   "id": "416711f0",
   "metadata": {
    "execution": {
     "iopub.execute_input": "2023-09-01T12:15:11.769504Z",
     "iopub.status.busy": "2023-09-01T12:15:11.769115Z",
     "iopub.status.idle": "2023-09-01T12:15:12.989658Z",
     "shell.execute_reply": "2023-09-01T12:15:12.988468Z"
    },
    "papermill": {
     "duration": 1.229589,
     "end_time": "2023-09-01T12:15:12.992297",
     "exception": false,
     "start_time": "2023-09-01T12:15:11.762708",
     "status": "completed"
    },
    "tags": []
   },
   "outputs": [
    {
     "name": "stderr",
     "output_type": "stream",
     "text": [
      "/opt/conda/lib/python3.10/site-packages/scipy/__init__.py:146: UserWarning: A NumPy version >=1.16.5 and <1.23.0 is required for this version of SciPy (detected version 1.23.5\n",
      "  warnings.warn(f\"A NumPy version >={np_minversion} and <{np_maxversion}\"\n"
     ]
    }
   ],
   "source": [
    "#Creating a validation set along with training data\n",
    "from sklearn.model_selection import train_test_split\n",
    "X_train,X_eval,y_train,y_eval=train_test_split(X,y_word,test_size=0.3,random_state=42)"
   ]
  },
  {
   "cell_type": "code",
   "execution_count": 8,
   "id": "0b2e8982",
   "metadata": {
    "execution": {
     "iopub.execute_input": "2023-09-01T12:15:13.006870Z",
     "iopub.status.busy": "2023-09-01T12:15:13.006439Z",
     "iopub.status.idle": "2023-09-01T12:15:13.168899Z",
     "shell.execute_reply": "2023-09-01T12:15:13.167630Z"
    },
    "papermill": {
     "duration": 0.173718,
     "end_time": "2023-09-01T12:15:13.171503",
     "exception": false,
     "start_time": "2023-09-01T12:15:12.997785",
     "status": "completed"
    },
    "tags": []
   },
   "outputs": [],
   "source": [
    "#BASE:0 model using naive bayes and tf-idf.\n",
    "from sklearn.feature_extraction.text import TfidfVectorizer\n",
    "from sklearn.compose import ColumnTransformer,make_column_selector\n",
    "from sklearn.pipeline import Pipeline\n",
    "from sklearn.gaussian_process.kernels import DotProduct, WhiteKernel\n",
    "from sklearn.gaussian_process import GaussianProcessRegressor\n",
    "from sklearn.linear_model import LinearRegression"
   ]
  },
  {
   "cell_type": "code",
   "execution_count": 9,
   "id": "7c1b978b",
   "metadata": {
    "execution": {
     "iopub.execute_input": "2023-09-01T12:15:13.183820Z",
     "iopub.status.busy": "2023-09-01T12:15:13.183428Z",
     "iopub.status.idle": "2023-09-01T12:15:13.917504Z",
     "shell.execute_reply": "2023-09-01T12:15:13.916266Z"
    },
    "papermill": {
     "duration": 0.743531,
     "end_time": "2023-09-01T12:15:13.920396",
     "exception": false,
     "start_time": "2023-09-01T12:15:13.176865",
     "status": "completed"
    },
    "tags": []
   },
   "outputs": [
    {
     "data": {
      "text/html": [
       "<style>#sk-container-id-1 {color: black;background-color: white;}#sk-container-id-1 pre{padding: 0;}#sk-container-id-1 div.sk-toggleable {background-color: white;}#sk-container-id-1 label.sk-toggleable__label {cursor: pointer;display: block;width: 100%;margin-bottom: 0;padding: 0.3em;box-sizing: border-box;text-align: center;}#sk-container-id-1 label.sk-toggleable__label-arrow:before {content: \"▸\";float: left;margin-right: 0.25em;color: #696969;}#sk-container-id-1 label.sk-toggleable__label-arrow:hover:before {color: black;}#sk-container-id-1 div.sk-estimator:hover label.sk-toggleable__label-arrow:before {color: black;}#sk-container-id-1 div.sk-toggleable__content {max-height: 0;max-width: 0;overflow: hidden;text-align: left;background-color: #f0f8ff;}#sk-container-id-1 div.sk-toggleable__content pre {margin: 0.2em;color: black;border-radius: 0.25em;background-color: #f0f8ff;}#sk-container-id-1 input.sk-toggleable__control:checked~div.sk-toggleable__content {max-height: 200px;max-width: 100%;overflow: auto;}#sk-container-id-1 input.sk-toggleable__control:checked~label.sk-toggleable__label-arrow:before {content: \"▾\";}#sk-container-id-1 div.sk-estimator input.sk-toggleable__control:checked~label.sk-toggleable__label {background-color: #d4ebff;}#sk-container-id-1 div.sk-label input.sk-toggleable__control:checked~label.sk-toggleable__label {background-color: #d4ebff;}#sk-container-id-1 input.sk-hidden--visually {border: 0;clip: rect(1px 1px 1px 1px);clip: rect(1px, 1px, 1px, 1px);height: 1px;margin: -1px;overflow: hidden;padding: 0;position: absolute;width: 1px;}#sk-container-id-1 div.sk-estimator {font-family: monospace;background-color: #f0f8ff;border: 1px dotted black;border-radius: 0.25em;box-sizing: border-box;margin-bottom: 0.5em;}#sk-container-id-1 div.sk-estimator:hover {background-color: #d4ebff;}#sk-container-id-1 div.sk-parallel-item::after {content: \"\";width: 100%;border-bottom: 1px solid gray;flex-grow: 1;}#sk-container-id-1 div.sk-label:hover label.sk-toggleable__label {background-color: #d4ebff;}#sk-container-id-1 div.sk-serial::before {content: \"\";position: absolute;border-left: 1px solid gray;box-sizing: border-box;top: 0;bottom: 0;left: 50%;z-index: 0;}#sk-container-id-1 div.sk-serial {display: flex;flex-direction: column;align-items: center;background-color: white;padding-right: 0.2em;padding-left: 0.2em;position: relative;}#sk-container-id-1 div.sk-item {position: relative;z-index: 1;}#sk-container-id-1 div.sk-parallel {display: flex;align-items: stretch;justify-content: center;background-color: white;position: relative;}#sk-container-id-1 div.sk-item::before, #sk-container-id-1 div.sk-parallel-item::before {content: \"\";position: absolute;border-left: 1px solid gray;box-sizing: border-box;top: 0;bottom: 0;left: 50%;z-index: -1;}#sk-container-id-1 div.sk-parallel-item {display: flex;flex-direction: column;z-index: 1;position: relative;background-color: white;}#sk-container-id-1 div.sk-parallel-item:first-child::after {align-self: flex-end;width: 50%;}#sk-container-id-1 div.sk-parallel-item:last-child::after {align-self: flex-start;width: 50%;}#sk-container-id-1 div.sk-parallel-item:only-child::after {width: 0;}#sk-container-id-1 div.sk-dashed-wrapped {border: 1px dashed gray;margin: 0 0.4em 0.5em 0.4em;box-sizing: border-box;padding-bottom: 0.4em;background-color: white;}#sk-container-id-1 div.sk-label label {font-family: monospace;font-weight: bold;display: inline-block;line-height: 1.2em;}#sk-container-id-1 div.sk-label-container {text-align: center;}#sk-container-id-1 div.sk-container {/* jupyter's `normalize.less` sets `[hidden] { display: none; }` but bootstrap.min.css set `[hidden] { display: none !important; }` so we also need the `!important` here to be able to override the default hidden behavior on the sphinx rendered scikit-learn.org. See: https://github.com/scikit-learn/scikit-learn/issues/21755 */display: inline-block !important;position: relative;}#sk-container-id-1 div.sk-text-repr-fallback {display: none;}</style><div id=\"sk-container-id-1\" class=\"sk-top-container\"><div class=\"sk-text-repr-fallback\"><pre>Pipeline(steps=[(&#x27;column_vect&#x27;,\n",
       "                 ColumnTransformer(transformers=[(&#x27;col1&#x27;, TfidfVectorizer(),\n",
       "                                                  &#x27;text&#x27;),\n",
       "                                                 (&#x27;col2&#x27;, TfidfVectorizer(),\n",
       "                                                  &#x27;prompt_text&#x27;),\n",
       "                                                 (&#x27;col3&#x27;, TfidfVectorizer(),\n",
       "                                                  &#x27;prompt_title&#x27;),\n",
       "                                                 (&#x27;col4&#x27;, TfidfVectorizer(),\n",
       "                                                  &#x27;prompt_question&#x27;)])),\n",
       "                (&#x27;reg&#x27;, LinearRegression())])</pre><b>In a Jupyter environment, please rerun this cell to show the HTML representation or trust the notebook. <br />On GitHub, the HTML representation is unable to render, please try loading this page with nbviewer.org.</b></div><div class=\"sk-container\" hidden><div class=\"sk-item sk-dashed-wrapped\"><div class=\"sk-label-container\"><div class=\"sk-label sk-toggleable\"><input class=\"sk-toggleable__control sk-hidden--visually\" id=\"sk-estimator-id-1\" type=\"checkbox\" ><label for=\"sk-estimator-id-1\" class=\"sk-toggleable__label sk-toggleable__label-arrow\">Pipeline</label><div class=\"sk-toggleable__content\"><pre>Pipeline(steps=[(&#x27;column_vect&#x27;,\n",
       "                 ColumnTransformer(transformers=[(&#x27;col1&#x27;, TfidfVectorizer(),\n",
       "                                                  &#x27;text&#x27;),\n",
       "                                                 (&#x27;col2&#x27;, TfidfVectorizer(),\n",
       "                                                  &#x27;prompt_text&#x27;),\n",
       "                                                 (&#x27;col3&#x27;, TfidfVectorizer(),\n",
       "                                                  &#x27;prompt_title&#x27;),\n",
       "                                                 (&#x27;col4&#x27;, TfidfVectorizer(),\n",
       "                                                  &#x27;prompt_question&#x27;)])),\n",
       "                (&#x27;reg&#x27;, LinearRegression())])</pre></div></div></div><div class=\"sk-serial\"><div class=\"sk-item sk-dashed-wrapped\"><div class=\"sk-label-container\"><div class=\"sk-label sk-toggleable\"><input class=\"sk-toggleable__control sk-hidden--visually\" id=\"sk-estimator-id-2\" type=\"checkbox\" ><label for=\"sk-estimator-id-2\" class=\"sk-toggleable__label sk-toggleable__label-arrow\">column_vect: ColumnTransformer</label><div class=\"sk-toggleable__content\"><pre>ColumnTransformer(transformers=[(&#x27;col1&#x27;, TfidfVectorizer(), &#x27;text&#x27;),\n",
       "                                (&#x27;col2&#x27;, TfidfVectorizer(), &#x27;prompt_text&#x27;),\n",
       "                                (&#x27;col3&#x27;, TfidfVectorizer(), &#x27;prompt_title&#x27;),\n",
       "                                (&#x27;col4&#x27;, TfidfVectorizer(), &#x27;prompt_question&#x27;)])</pre></div></div></div><div class=\"sk-parallel\"><div class=\"sk-parallel-item\"><div class=\"sk-item\"><div class=\"sk-label-container\"><div class=\"sk-label sk-toggleable\"><input class=\"sk-toggleable__control sk-hidden--visually\" id=\"sk-estimator-id-3\" type=\"checkbox\" ><label for=\"sk-estimator-id-3\" class=\"sk-toggleable__label sk-toggleable__label-arrow\">col1</label><div class=\"sk-toggleable__content\"><pre>text</pre></div></div></div><div class=\"sk-serial\"><div class=\"sk-item\"><div class=\"sk-estimator sk-toggleable\"><input class=\"sk-toggleable__control sk-hidden--visually\" id=\"sk-estimator-id-4\" type=\"checkbox\" ><label for=\"sk-estimator-id-4\" class=\"sk-toggleable__label sk-toggleable__label-arrow\">TfidfVectorizer</label><div class=\"sk-toggleable__content\"><pre>TfidfVectorizer()</pre></div></div></div></div></div></div><div class=\"sk-parallel-item\"><div class=\"sk-item\"><div class=\"sk-label-container\"><div class=\"sk-label sk-toggleable\"><input class=\"sk-toggleable__control sk-hidden--visually\" id=\"sk-estimator-id-5\" type=\"checkbox\" ><label for=\"sk-estimator-id-5\" class=\"sk-toggleable__label sk-toggleable__label-arrow\">col2</label><div class=\"sk-toggleable__content\"><pre>prompt_text</pre></div></div></div><div class=\"sk-serial\"><div class=\"sk-item\"><div class=\"sk-estimator sk-toggleable\"><input class=\"sk-toggleable__control sk-hidden--visually\" id=\"sk-estimator-id-6\" type=\"checkbox\" ><label for=\"sk-estimator-id-6\" class=\"sk-toggleable__label sk-toggleable__label-arrow\">TfidfVectorizer</label><div class=\"sk-toggleable__content\"><pre>TfidfVectorizer()</pre></div></div></div></div></div></div><div class=\"sk-parallel-item\"><div class=\"sk-item\"><div class=\"sk-label-container\"><div class=\"sk-label sk-toggleable\"><input class=\"sk-toggleable__control sk-hidden--visually\" id=\"sk-estimator-id-7\" type=\"checkbox\" ><label for=\"sk-estimator-id-7\" class=\"sk-toggleable__label sk-toggleable__label-arrow\">col3</label><div class=\"sk-toggleable__content\"><pre>prompt_title</pre></div></div></div><div class=\"sk-serial\"><div class=\"sk-item\"><div class=\"sk-estimator sk-toggleable\"><input class=\"sk-toggleable__control sk-hidden--visually\" id=\"sk-estimator-id-8\" type=\"checkbox\" ><label for=\"sk-estimator-id-8\" class=\"sk-toggleable__label sk-toggleable__label-arrow\">TfidfVectorizer</label><div class=\"sk-toggleable__content\"><pre>TfidfVectorizer()</pre></div></div></div></div></div></div><div class=\"sk-parallel-item\"><div class=\"sk-item\"><div class=\"sk-label-container\"><div class=\"sk-label sk-toggleable\"><input class=\"sk-toggleable__control sk-hidden--visually\" id=\"sk-estimator-id-9\" type=\"checkbox\" ><label for=\"sk-estimator-id-9\" class=\"sk-toggleable__label sk-toggleable__label-arrow\">col4</label><div class=\"sk-toggleable__content\"><pre>prompt_question</pre></div></div></div><div class=\"sk-serial\"><div class=\"sk-item\"><div class=\"sk-estimator sk-toggleable\"><input class=\"sk-toggleable__control sk-hidden--visually\" id=\"sk-estimator-id-10\" type=\"checkbox\" ><label for=\"sk-estimator-id-10\" class=\"sk-toggleable__label sk-toggleable__label-arrow\">TfidfVectorizer</label><div class=\"sk-toggleable__content\"><pre>TfidfVectorizer()</pre></div></div></div></div></div></div></div></div><div class=\"sk-item\"><div class=\"sk-estimator sk-toggleable\"><input class=\"sk-toggleable__control sk-hidden--visually\" id=\"sk-estimator-id-11\" type=\"checkbox\" ><label for=\"sk-estimator-id-11\" class=\"sk-toggleable__label sk-toggleable__label-arrow\">LinearRegression</label><div class=\"sk-toggleable__content\"><pre>LinearRegression()</pre></div></div></div></div></div></div></div>"
      ],
      "text/plain": [
       "Pipeline(steps=[('column_vect',\n",
       "                 ColumnTransformer(transformers=[('col1', TfidfVectorizer(),\n",
       "                                                  'text'),\n",
       "                                                 ('col2', TfidfVectorizer(),\n",
       "                                                  'prompt_text'),\n",
       "                                                 ('col3', TfidfVectorizer(),\n",
       "                                                  'prompt_title'),\n",
       "                                                 ('col4', TfidfVectorizer(),\n",
       "                                                  'prompt_question')])),\n",
       "                ('reg', LinearRegression())])"
      ]
     },
     "execution_count": 9,
     "metadata": {},
     "output_type": "execute_result"
    }
   ],
   "source": [
    "model0=Pipeline([(\"column_vect\",ColumnTransformer(transformers=[('col1',TfidfVectorizer(),'text'),('col2',TfidfVectorizer(),'prompt_text'),('col3',TfidfVectorizer(),'prompt_title'),('col4',TfidfVectorizer(),'prompt_question')])),\n",
    "                  ('reg', LinearRegression())])\n",
    "model0.fit(X_train,y_train)"
   ]
  },
  {
   "cell_type": "code",
   "execution_count": 10,
   "id": "01283349",
   "metadata": {
    "execution": {
     "iopub.execute_input": "2023-09-01T12:15:13.934076Z",
     "iopub.status.busy": "2023-09-01T12:15:13.933605Z",
     "iopub.status.idle": "2023-09-01T12:15:14.083840Z",
     "shell.execute_reply": "2023-09-01T12:15:14.082665Z"
    },
    "papermill": {
     "duration": 0.160021,
     "end_time": "2023-09-01T12:15:14.086355",
     "exception": false,
     "start_time": "2023-09-01T12:15:13.926334",
     "status": "completed"
    },
    "tags": []
   },
   "outputs": [
    {
     "name": "stdout",
     "output_type": "stream",
     "text": [
      "The accuracy of the model will be:14.515312148302517\n"
     ]
    }
   ],
   "source": [
    "baseline_score=model0.score(X_eval,y_eval)\n",
    "print(f'The accuracy of the model will be:{baseline_score*100}')"
   ]
  }
 ],
 "kernelspec": {
  "display_name": "Python 3",
  "language": "python",
  "name": "python3"
 },
 "language_info": {
  "codemirror_mode": {
   "name": "ipython",
   "version": 3
  },
  "file_extension": ".py",
  "mimetype": "text/x-python",
  "name": "python",
  "nbconvert_exporter": "python",
  "pygments_lexer": "ipython3",
  "version": "3.6.4"
 },
 "metadata": {
  "kernelspec": {
   "display_name": "Python 3",
   "language": "python",
   "name": "python3"
  },
  "language_info": {
   "codemirror_mode": {
    "name": "ipython",
    "version": 3
   },
   "file_extension": ".py",
   "mimetype": "text/x-python",
   "name": "python",
   "nbconvert_exporter": "python",
   "pygments_lexer": "ipython3",
   "version": "3.10.12"
  },
  "papermill": {
   "default_parameters": {},
   "duration": 14.00063,
   "end_time": "2023-09-01T12:15:15.116037",
   "environment_variables": {},
   "exception": null,
   "input_path": "__notebook__.ipynb",
   "output_path": "__notebook__.ipynb",
   "parameters": {},
   "start_time": "2023-09-01T12:15:01.115407",
   "version": "2.4.0"
  }
 },
 "nbformat": 4,
 "nbformat_minor": 5
}
