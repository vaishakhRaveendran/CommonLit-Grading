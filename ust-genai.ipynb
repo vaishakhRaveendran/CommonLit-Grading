{
 "cells": [
  {
   "cell_type": "code",
   "execution_count": 1,
   "id": "542b0a47",
   "metadata": {
    "_cell_guid": "b1076dfc-b9ad-4769-8c92-a6c4dae69d19",
    "_uuid": "8f2839f25d086af736a60e9eeb907d3b93b6e0e5",
    "execution": {
     "iopub.execute_input": "2023-09-05T10:32:23.333732Z",
     "iopub.status.busy": "2023-09-05T10:32:23.333357Z",
     "iopub.status.idle": "2023-09-05T10:32:23.344179Z",
     "shell.execute_reply": "2023-09-05T10:32:23.343417Z"
    },
    "papermill": {
     "duration": 0.022931,
     "end_time": "2023-09-05T10:32:23.346091",
     "exception": false,
     "start_time": "2023-09-05T10:32:23.323160",
     "status": "completed"
    },
    "tags": []
   },
   "outputs": [
    {
     "name": "stdout",
     "output_type": "stream",
     "text": [
      "/kaggle/input/commonlit-evaluate-student-summaries/sample_submission.csv\n",
      "/kaggle/input/commonlit-evaluate-student-summaries/prompts_train.csv\n",
      "/kaggle/input/commonlit-evaluate-student-summaries/summaries_test.csv\n",
      "/kaggle/input/commonlit-evaluate-student-summaries/summaries_train.csv\n",
      "/kaggle/input/commonlit-evaluate-student-summaries/prompts_test.csv\n"
     ]
    }
   ],
   "source": [
    "# This Python 3 environment comes with many helpful analytics libraries installed\n",
    "# It is defined by the kaggle/python Docker image: https://github.com/kaggle/docker-python\n",
    "# For example, here's several helpful packages to load\n",
    "\n",
    "import numpy as np # linear algebra\n",
    "import pandas as pd # data processing, CSV file I/O (e.g. pd.read_csv)\n",
    "\n",
    "# Input data files are available in the read-only \"../input/\" directory\n",
    "# For example, running this (by clicking run or pressing Shift+Enter) will list all files under the input directory\n",
    "\n",
    "import os\n",
    "for dirname, _, filenames in os.walk('/kaggle/input'):\n",
    "    for filename in filenames:\n",
    "        print(os.path.join(dirname, filename))\n",
    "\n",
    "# You can write up to 20GB to the current directory (/kaggle/working/) that gets preserved as output when you create a version using \"Save & Run All\" \n",
    "# You can also write temporary files to /kaggle/temp/, but they won't be saved outside of the current session"
   ]
  },
  {
   "cell_type": "code",
   "execution_count": 2,
   "id": "c66cbd6c",
   "metadata": {
    "execution": {
     "iopub.execute_input": "2023-09-05T10:32:23.359861Z",
     "iopub.status.busy": "2023-09-05T10:32:23.359107Z",
     "iopub.status.idle": "2023-09-05T10:32:35.095498Z",
     "shell.execute_reply": "2023-09-05T10:32:35.093440Z"
    },
    "papermill": {
     "duration": 11.746129,
     "end_time": "2023-09-05T10:32:35.098163",
     "exception": false,
     "start_time": "2023-09-05T10:32:23.352034",
     "status": "completed"
    },
    "tags": []
   },
   "outputs": [
    {
     "name": "stderr",
     "output_type": "stream",
     "text": [
      "/opt/conda/lib/python3.10/site-packages/scipy/__init__.py:146: UserWarning: A NumPy version >=1.16.5 and <1.23.0 is required for this version of SciPy (detected version 1.23.5\n",
      "  warnings.warn(f\"A NumPy version >={np_minversion} and <{np_maxversion}\"\n",
      "/opt/conda/lib/python3.10/site-packages/tensorflow_io/python/ops/__init__.py:98: UserWarning: unable to load libtensorflow_io_plugins.so: unable to open file: libtensorflow_io_plugins.so, from paths: ['/opt/conda/lib/python3.10/site-packages/tensorflow_io/python/ops/libtensorflow_io_plugins.so']\n",
      "caused by: ['/opt/conda/lib/python3.10/site-packages/tensorflow_io/python/ops/libtensorflow_io_plugins.so: undefined symbol: _ZN3tsl6StatusC1EN10tensorflow5error4CodeESt17basic_string_viewIcSt11char_traitsIcEENS_14SourceLocationE']\n",
      "  warnings.warn(f\"unable to load libtensorflow_io_plugins.so: {e}\")\n",
      "/opt/conda/lib/python3.10/site-packages/tensorflow_io/python/ops/__init__.py:104: UserWarning: file system plugins are not loaded: unable to open file: libtensorflow_io.so, from paths: ['/opt/conda/lib/python3.10/site-packages/tensorflow_io/python/ops/libtensorflow_io.so']\n",
      "caused by: ['/opt/conda/lib/python3.10/site-packages/tensorflow_io/python/ops/libtensorflow_io.so: undefined symbol: _ZTVN10tensorflow13GcsFileSystemE']\n",
      "  warnings.warn(f\"file system plugins are not loaded: {e}\")\n"
     ]
    }
   ],
   "source": [
    "import numpy as np\n",
    "import tensorflow as tf\n",
    "from sklearn.decomposition import PCA"
   ]
  },
  {
   "cell_type": "code",
   "execution_count": 3,
   "id": "5c52b81d",
   "metadata": {
    "execution": {
     "iopub.execute_input": "2023-09-05T10:32:35.113646Z",
     "iopub.status.busy": "2023-09-05T10:32:35.111734Z",
     "iopub.status.idle": "2023-09-05T10:32:35.386873Z",
     "shell.execute_reply": "2023-09-05T10:32:35.385036Z"
    },
    "papermill": {
     "duration": 0.285772,
     "end_time": "2023-09-05T10:32:35.390074",
     "exception": false,
     "start_time": "2023-09-05T10:32:35.104302",
     "status": "completed"
    },
    "tags": []
   },
   "outputs": [
    {
     "name": "stdout",
     "output_type": "stream",
     "text": [
      "/bin/bash: nvidia-smi: command not found\r\n"
     ]
    }
   ],
   "source": [
    "!nvidia-smi -L"
   ]
  },
  {
   "cell_type": "code",
   "execution_count": 4,
   "id": "fbe69d7a",
   "metadata": {
    "execution": {
     "iopub.execute_input": "2023-09-05T10:32:35.404203Z",
     "iopub.status.busy": "2023-09-05T10:32:35.403798Z",
     "iopub.status.idle": "2023-09-05T10:32:35.411126Z",
     "shell.execute_reply": "2023-09-05T10:32:35.409728Z"
    },
    "papermill": {
     "duration": 0.017576,
     "end_time": "2023-09-05T10:32:35.413824",
     "exception": false,
     "start_time": "2023-09-05T10:32:35.396248",
     "status": "completed"
    },
    "tags": []
   },
   "outputs": [],
   "source": [
    "def print_tuple(obs):\n",
    "    print(\"\\033[1mprompt_question: \\033[0m\", obs.prompt_question)\n",
    "    print()\n",
    "    print(\"\\033[1mprompt_title: \\033[0m\", obs.prompt_title)\n",
    "    print()\n",
    "    print(\"\\033[1mprompt_text: \\033[0m\")\n",
    "    print(obs.prompt_text)\n",
    "    print()\n",
    "    print(\"\\033[1msummary: \\033[0m\")\n",
    "    print(obs.text)\n",
    "    print()\n",
    "    print(\"\\033[1mWording: \\033[0m\")\n",
    "    print(obs.wording)\n",
    "    print()\n",
    "    print(\"\\033[1mContent: \\033[0m\")\n",
    "    print(obs.content)\n",
    "    "
   ]
  },
  {
   "cell_type": "code",
   "execution_count": 5,
   "id": "c1902fd8",
   "metadata": {
    "execution": {
     "iopub.execute_input": "2023-09-05T10:32:35.427545Z",
     "iopub.status.busy": "2023-09-05T10:32:35.427198Z",
     "iopub.status.idle": "2023-09-05T10:32:35.555459Z",
     "shell.execute_reply": "2023-09-05T10:32:35.553916Z"
    },
    "papermill": {
     "duration": 0.138234,
     "end_time": "2023-09-05T10:32:35.558067",
     "exception": false,
     "start_time": "2023-09-05T10:32:35.419833",
     "status": "completed"
    },
    "tags": []
   },
   "outputs": [],
   "source": [
    "#Filepath\n",
    "FILE_PATH='/kaggle/input/commonlit-evaluate-student-summaries'\n",
    "#train set\n",
    "pmt_train=pd.read_csv(os.path.join(FILE_PATH,'prompts_train.csv'))\n",
    "sum_train=pd.read_csv(os.path.join(FILE_PATH,'summaries_train.csv'))\n",
    "df_train=pmt_train.merge(sum_train,how='inner',on='prompt_id')"
   ]
  },
  {
   "cell_type": "code",
   "execution_count": 6,
   "id": "697ff95d",
   "metadata": {
    "execution": {
     "iopub.execute_input": "2023-09-05T10:32:35.571950Z",
     "iopub.status.busy": "2023-09-05T10:32:35.571545Z",
     "iopub.status.idle": "2023-09-05T10:32:35.577892Z",
     "shell.execute_reply": "2023-09-05T10:32:35.576608Z"
    },
    "papermill": {
     "duration": 0.015805,
     "end_time": "2023-09-05T10:32:35.579979",
     "exception": false,
     "start_time": "2023-09-05T10:32:35.564174",
     "status": "completed"
    },
    "tags": []
   },
   "outputs": [
    {
     "name": "stdout",
     "output_type": "stream",
     "text": [
      "\u001b[1mprompt_question: \u001b[0m Summarize at least 3 elements of an ideal tragedy, as described by Aristotle.\n",
      "\n",
      "\u001b[1mprompt_title: \u001b[0m On Tragedy\n",
      "\n",
      "\u001b[1mprompt_text: \u001b[0m\n",
      "Chapter 13 \r\n",
      "As the sequel to what has already been said, we must proceed to consider what the poet should aim at, and what he should avoid, in constructing his plots; and by what means the specific effect of Tragedy will be produced. \r\n",
      "A perfect tragedy should, as we have seen, be arranged not on the simple but on the complex plan. It should, moreover, imitate actions which excite pity and fear, this being the distinctive mark of tragic imitation. It follows plainly, in the first place, that the change of fortune presented must not be the spectacle of a virtuous man brought from prosperity to adversity: for this moves neither pity nor fear; it merely shocks us. Nor, again, that of a bad man passing from adversity to prosperity: for nothing can be more alien to the spirit of Tragedy; it possesses no single tragic quality; it neither satisfies the moral sense nor calls forth pity or fear. Nor, again, should the downfall of the utter villain be exhibited. A plot of this kind would, doubtless, satisfy the moral sense, but it would inspire neither pity nor fear; for pity is aroused by unmerited misfortune, fear by the misfortune of a man like ourselves. Such an event, therefore, will be neither pitiful nor terrible. There remains, then, the character between these two extremes — that of a man who is not eminently good and just, yet whose misfortune is brought about not by vice or depravity, but by some error of judgement or frailty. He must be one who is highly renowned and prosperous — a personage like Oedipus, Thyestes, or other illustrious men of such families. \r\n",
      "A well-constructed plot should, therefore, be single in its issue, rather than double as some maintain. The change of fortune should be not from bad to good, but, reversely, from good to bad. It should come about as the result not of vice, but of some great error or frailty, in a character either such as we have described, or better rather than worse. The practice of the stage bears out our view. At first the poets recounted any legend that came in their way. Now, the best tragedies are founded on the story of a few houses — on the fortunes of Alcmaeon, Oedipus, Orestes, Meleager, Thyestes, Telephus, and those others who have done or suffered something terrible. A tragedy, then, to be perfect according to the rules of art, should be of this construction. Hence they are in error who censure Euripides just because he follows this principle in his plays, many of which end unhappily. It is, as we have said, the right ending. The best proof is that on the stage and in dramatic competition, such plays, if well worked out, are the most tragic in effect; and Euripides, faulty though he may be in the general management of his subject, yet is felt to be the most tragic of the poets. \r\n",
      "In the second rank comes the kind of tragedy which some place first. Like the Odyssey, it has a double thread of plot, and also an opposite catastrophe for the good and for the bad. It is accounted the best because of the weakness of the spectators; for the poet is guided in what he writes by the wishes of his audience. The pleasure, however, thence derived is not the true tragic pleasure. It is proper rather to Comedy, where those who, in the piece, are the deadliest enemies — like Orestes and Aegisthus — quit the stage as friends at the close, and no one slays or is slain.\n",
      "\n",
      "\u001b[1msummary: \u001b[0m\n",
      "1 element of an ideal tragedy is that it should be arranged on a complex plan.  Another element of an ideal tragedy is that it should only have one main issue. The last element of an ideal tragedy is that it should have a double thread plot and an opposite catastrophe for both good and bad.\n",
      "\n",
      "\u001b[1mWording: \u001b[0m\n",
      "-0.471414826967448\n",
      "\n",
      "\u001b[1mContent: \u001b[0m\n",
      "-0.210613934166593\n"
     ]
    }
   ],
   "source": [
    "#df_train\n",
    "tuple1=df_train.iloc[0]\n",
    "print_tuple(tuple1)"
   ]
  },
  {
   "cell_type": "code",
   "execution_count": 7,
   "id": "b51b6bbf",
   "metadata": {
    "execution": {
     "iopub.execute_input": "2023-09-05T10:32:35.594122Z",
     "iopub.status.busy": "2023-09-05T10:32:35.593741Z",
     "iopub.status.idle": "2023-09-05T10:32:35.600243Z",
     "shell.execute_reply": "2023-09-05T10:32:35.598904Z"
    },
    "papermill": {
     "duration": 0.01688,
     "end_time": "2023-09-05T10:32:35.602985",
     "exception": false,
     "start_time": "2023-09-05T10:32:35.586105",
     "status": "completed"
    },
    "tags": []
   },
   "outputs": [],
   "source": [
    "#we actually dont want student_id or prompt_id for training hence dropping those.\n",
    "df_train.drop(['student_id','prompt_id'],axis=1,inplace=True)"
   ]
  },
  {
   "cell_type": "code",
   "execution_count": 8,
   "id": "8a0f1b03",
   "metadata": {
    "execution": {
     "iopub.execute_input": "2023-09-05T10:32:35.617542Z",
     "iopub.status.busy": "2023-09-05T10:32:35.617124Z",
     "iopub.status.idle": "2023-09-05T10:32:35.629631Z",
     "shell.execute_reply": "2023-09-05T10:32:35.628891Z"
    },
    "papermill": {
     "duration": 0.022583,
     "end_time": "2023-09-05T10:32:35.631827",
     "exception": false,
     "start_time": "2023-09-05T10:32:35.609244",
     "status": "completed"
    },
    "tags": []
   },
   "outputs": [],
   "source": [
    "from sklearn.model_selection import train_test_split \n",
    "X = df_train[['text']]\n",
    "y = df_train[['wording']]\n",
    "X_train, X_eval, y_train, y_eval = train_test_split(X, y, test_size=0.2, random_state=42)"
   ]
  },
  {
   "cell_type": "code",
   "execution_count": 9,
   "id": "60a5f3cd",
   "metadata": {
    "execution": {
     "iopub.execute_input": "2023-09-05T10:32:35.646439Z",
     "iopub.status.busy": "2023-09-05T10:32:35.645884Z",
     "iopub.status.idle": "2023-09-05T10:32:36.571092Z",
     "shell.execute_reply": "2023-09-05T10:32:36.570179Z"
    },
    "papermill": {
     "duration": 0.934518,
     "end_time": "2023-09-05T10:32:36.573095",
     "exception": false,
     "start_time": "2023-09-05T10:32:35.638577",
     "status": "completed"
    },
    "tags": []
   },
   "outputs": [
    {
     "name": "stdout",
     "output_type": "stream",
     "text": [
      "14172\n"
     ]
    }
   ],
   "source": [
    "#PREPROCESSING\n",
    "from tensorflow.keras.layers import TextVectorization\n",
    "max_len=round(sum([len(i.split()) for i in X['text']])/len(X))\n",
    "#max_len will be length of each sequence it is the average no of words in each row.\n",
    "text_vectorizer=TextVectorization(\n",
    "    max_tokens=20000,\n",
    "    standardize='lower_and_strip_punctuation',\n",
    "    split='whitespace',\n",
    "    ngrams=None,#Creating groups of tokens\n",
    "    output_mode='int',\n",
    "    output_sequence_length=max_len,#how long each sequence of tokens should be.\n",
    "    pad_to_max_tokens=True#Adding zeros at the end to reach the sequence length\n",
    "    \n",
    ")\n",
    "#Fitting the text vectorizer to training data\n",
    "text_vectorizer.adapt(X)\n",
    "#No of unique words the vectorizer found\n",
    "words_vocab=text_vectorizer.get_vocabulary()\n",
    "print(len(words_vocab))\n",
    "most_common=words_vocab[:5]\n",
    "least_common=words_vocab[-5:]"
   ]
  },
  {
   "cell_type": "code",
   "execution_count": 10,
   "id": "e48ccc24",
   "metadata": {
    "execution": {
     "iopub.execute_input": "2023-09-05T10:32:36.587609Z",
     "iopub.status.busy": "2023-09-05T10:32:36.587072Z",
     "iopub.status.idle": "2023-09-05T10:32:36.601445Z",
     "shell.execute_reply": "2023-09-05T10:32:36.599887Z"
    },
    "papermill": {
     "duration": 0.024507,
     "end_time": "2023-09-05T10:32:36.604100",
     "exception": false,
     "start_time": "2023-09-05T10:32:36.579593",
     "status": "completed"
    },
    "tags": []
   },
   "outputs": [
    {
     "data": {
      "text/html": [
       "<div>\n",
       "<style scoped>\n",
       "    .dataframe tbody tr th:only-of-type {\n",
       "        vertical-align: middle;\n",
       "    }\n",
       "\n",
       "    .dataframe tbody tr th {\n",
       "        vertical-align: top;\n",
       "    }\n",
       "\n",
       "    .dataframe thead th {\n",
       "        text-align: right;\n",
       "    }\n",
       "</style>\n",
       "<table border=\"1\" class=\"dataframe\">\n",
       "  <thead>\n",
       "    <tr style=\"text-align: right;\">\n",
       "      <th></th>\n",
       "      <th>text</th>\n",
       "    </tr>\n",
       "  </thead>\n",
       "  <tbody>\n",
       "    <tr>\n",
       "      <th>0</th>\n",
       "      <td>1 element of an ideal tragedy is that it shoul...</td>\n",
       "    </tr>\n",
       "    <tr>\n",
       "      <th>1</th>\n",
       "      <td>The three elements of an ideal tragedy are:  H...</td>\n",
       "    </tr>\n",
       "    <tr>\n",
       "      <th>2</th>\n",
       "      <td>Aristotle states that an ideal tragedy should ...</td>\n",
       "    </tr>\n",
       "    <tr>\n",
       "      <th>3</th>\n",
       "      <td>One element of an Ideal tragedy is having a co...</td>\n",
       "    </tr>\n",
       "    <tr>\n",
       "      <th>4</th>\n",
       "      <td>The 3 ideal of tragedy is how complex you need...</td>\n",
       "    </tr>\n",
       "    <tr>\n",
       "      <th>...</th>\n",
       "      <td>...</td>\n",
       "    </tr>\n",
       "    <tr>\n",
       "      <th>7160</th>\n",
       "      <td>In paragraph two, they would use pickle meat a...</td>\n",
       "    </tr>\n",
       "    <tr>\n",
       "      <th>7161</th>\n",
       "      <td>in the first paragraph  it says \"either can it...</td>\n",
       "    </tr>\n",
       "    <tr>\n",
       "      <th>7162</th>\n",
       "      <td>They would have piles of filthy meat on the fl...</td>\n",
       "    </tr>\n",
       "    <tr>\n",
       "      <th>7163</th>\n",
       "      <td>They used all sorts of chemical concoctions to...</td>\n",
       "    </tr>\n",
       "    <tr>\n",
       "      <th>7164</th>\n",
       "      <td>The meat would smell sour but the would \"rub i...</td>\n",
       "    </tr>\n",
       "  </tbody>\n",
       "</table>\n",
       "<p>7165 rows × 1 columns</p>\n",
       "</div>"
      ],
      "text/plain": [
       "                                                   text\n",
       "0     1 element of an ideal tragedy is that it shoul...\n",
       "1     The three elements of an ideal tragedy are:  H...\n",
       "2     Aristotle states that an ideal tragedy should ...\n",
       "3     One element of an Ideal tragedy is having a co...\n",
       "4     The 3 ideal of tragedy is how complex you need...\n",
       "...                                                 ...\n",
       "7160  In paragraph two, they would use pickle meat a...\n",
       "7161  in the first paragraph  it says \"either can it...\n",
       "7162  They would have piles of filthy meat on the fl...\n",
       "7163  They used all sorts of chemical concoctions to...\n",
       "7164  The meat would smell sour but the would \"rub i...\n",
       "\n",
       "[7165 rows x 1 columns]"
      ]
     },
     "execution_count": 10,
     "metadata": {},
     "output_type": "execute_result"
    }
   ],
   "source": [
    "X"
   ]
  },
  {
   "cell_type": "code",
   "execution_count": 11,
   "id": "f419b68e",
   "metadata": {
    "execution": {
     "iopub.execute_input": "2023-09-05T10:32:36.619100Z",
     "iopub.status.busy": "2023-09-05T10:32:36.618698Z",
     "iopub.status.idle": "2023-09-05T10:32:36.722757Z",
     "shell.execute_reply": "2023-09-05T10:32:36.721613Z"
    },
    "papermill": {
     "duration": 0.114473,
     "end_time": "2023-09-05T10:32:36.725137",
     "exception": false,
     "start_time": "2023-09-05T10:32:36.610664",
     "status": "completed"
    },
    "tags": []
   },
   "outputs": [
    {
     "data": {
      "text/plain": [
       "<tf.Tensor: shape=(1, 75), dtype=int64, numpy=\n",
       "array([[267, 115,   5,  28,  60,  22,  16,  10,   7,  19,  14, 263,  24,\n",
       "          6,  88, 147, 167, 115,   5,  28,  60,  22,  16,  10,   7,  19,\n",
       "        118,  40,  61, 145, 265,   2, 315, 115,   5,  28,  60,  22,  16,\n",
       "         10,   7,  19,  40,   6, 442, 775,  70,   3,  28, 620, 595,  23,\n",
       "        648,  33,   3,  34,   0,   0,   0,   0,   0,   0,   0,   0,   0,\n",
       "          0,   0,   0,   0,   0,   0,   0,   0,   0,   0]])>"
      ]
     },
     "execution_count": 11,
     "metadata": {},
     "output_type": "execute_result"
    }
   ],
   "source": [
    "text_vectorizer(X.iloc[0])\n",
    "#Shape is 1X75 means each of the summary is converted into a 75 tokens"
   ]
  },
  {
   "cell_type": "code",
   "execution_count": 12,
   "id": "c98c305e",
   "metadata": {
    "execution": {
     "iopub.execute_input": "2023-09-05T10:32:36.739492Z",
     "iopub.status.busy": "2023-09-05T10:32:36.739160Z",
     "iopub.status.idle": "2023-09-05T10:32:36.746418Z",
     "shell.execute_reply": "2023-09-05T10:32:36.745152Z"
    },
    "papermill": {
     "duration": 0.017411,
     "end_time": "2023-09-05T10:32:36.749037",
     "exception": false,
     "start_time": "2023-09-05T10:32:36.731626",
     "status": "completed"
    },
    "tags": []
   },
   "outputs": [],
   "source": [
    "from tensorflow.keras import layers\n",
    "embeddings=layers.Embedding(\n",
    "    input_dim=len(words_vocab),#length of vocabulary\n",
    "    output_dim=128,\n",
    "    embeddings_initializer='uniform',\n",
    "    input_length=max_len,#The output of vectorizer is having fixed length\n",
    ")"
   ]
  },
  {
   "cell_type": "code",
   "execution_count": 13,
   "id": "cda86c86",
   "metadata": {
    "execution": {
     "iopub.execute_input": "2023-09-05T10:32:36.763789Z",
     "iopub.status.busy": "2023-09-05T10:32:36.762974Z",
     "iopub.status.idle": "2023-09-05T10:32:36.818991Z",
     "shell.execute_reply": "2023-09-05T10:32:36.817821Z"
    },
    "papermill": {
     "duration": 0.066392,
     "end_time": "2023-09-05T10:32:36.822017",
     "exception": false,
     "start_time": "2023-09-05T10:32:36.755625",
     "status": "completed"
    },
    "tags": []
   },
   "outputs": [
    {
     "data": {
      "text/plain": [
       "<tf.Tensor: shape=(1, 75, 128), dtype=float32, numpy=\n",
       "array([[[-0.01401095, -0.02194986,  0.00041576, ...,  0.01193162,\n",
       "          0.02613067, -0.02194109],\n",
       "        [ 0.0478672 ,  0.0225344 ,  0.00594176, ..., -0.01226784,\n",
       "         -0.00302178, -0.0029181 ],\n",
       "        [-0.00628922, -0.02616367,  0.03149298, ..., -0.01546922,\n",
       "         -0.00411373,  0.00740786],\n",
       "        ...,\n",
       "        [ 0.02939013,  0.03106311, -0.00770146, ..., -0.02791371,\n",
       "          0.03368649, -0.03706723],\n",
       "        [ 0.02939013,  0.03106311, -0.00770146, ..., -0.02791371,\n",
       "          0.03368649, -0.03706723],\n",
       "        [ 0.02939013,  0.03106311, -0.00770146, ..., -0.02791371,\n",
       "          0.03368649, -0.03706723]]], dtype=float32)>"
      ]
     },
     "execution_count": 13,
     "metadata": {},
     "output_type": "execute_result"
    }
   ],
   "source": [
    "embeddings(text_vectorizer(X.iloc[0]))#Each of token  is converted into embedding of 128 dimensions"
   ]
  },
  {
   "cell_type": "code",
   "execution_count": 14,
   "id": "bd40dbb4",
   "metadata": {
    "execution": {
     "iopub.execute_input": "2023-09-05T10:32:36.837808Z",
     "iopub.status.busy": "2023-09-05T10:32:36.837422Z",
     "iopub.status.idle": "2023-09-05T10:32:36.908917Z",
     "shell.execute_reply": "2023-09-05T10:32:36.907313Z"
    },
    "papermill": {
     "duration": 0.082666,
     "end_time": "2023-09-05T10:32:36.911496",
     "exception": false,
     "start_time": "2023-09-05T10:32:36.828830",
     "status": "completed"
    },
    "tags": []
   },
   "outputs": [],
   "source": [
    "from tensorflow.keras import layers\n",
    "inputs=layers.Input(shape=(1,),dtype=tf.string)#shape is 1 since we will be feeding one string at a time.\n",
    "x=text_vectorizer(inputs)#turning strings into vectors\n",
    "y=embeddings(x)\n",
    "z=layers.GlobalAveragePooling1D()(y)#condensing feature vector of each token to a single one\n",
    "outputs=layers.Dense(units=1)(z)#no of hidden layers will be 1.Sigmoid activation since we need binary classification\n",
    "model01=tf.keras.Model(inputs,outputs,name=\"model01\")"
   ]
  },
  {
   "cell_type": "code",
   "execution_count": 15,
   "id": "2e0ff4ef",
   "metadata": {
    "execution": {
     "iopub.execute_input": "2023-09-05T10:32:36.926455Z",
     "iopub.status.busy": "2023-09-05T10:32:36.925730Z",
     "iopub.status.idle": "2023-09-05T10:32:36.956415Z",
     "shell.execute_reply": "2023-09-05T10:32:36.955316Z"
    },
    "papermill": {
     "duration": 0.040528,
     "end_time": "2023-09-05T10:32:36.958618",
     "exception": false,
     "start_time": "2023-09-05T10:32:36.918090",
     "status": "completed"
    },
    "tags": []
   },
   "outputs": [
    {
     "name": "stdout",
     "output_type": "stream",
     "text": [
      "Model: \"model01\"\n",
      "_________________________________________________________________\n",
      " Layer (type)                Output Shape              Param #   \n",
      "=================================================================\n",
      " input_1 (InputLayer)        [(None, 1)]               0         \n",
      "                                                                 \n",
      " text_vectorization (TextVec  (None, 75)               0         \n",
      " torization)                                                     \n",
      "                                                                 \n",
      " embedding (Embedding)       (None, 75, 128)           1814016   \n",
      "                                                                 \n",
      " global_average_pooling1d (G  (None, 128)              0         \n",
      " lobalAveragePooling1D)                                          \n",
      "                                                                 \n",
      " dense (Dense)               (None, 1)                 129       \n",
      "                                                                 \n",
      "=================================================================\n",
      "Total params: 1,814,145\n",
      "Trainable params: 1,814,145\n",
      "Non-trainable params: 0\n",
      "_________________________________________________________________\n"
     ]
    }
   ],
   "source": [
    "model01.summary()"
   ]
  },
  {
   "cell_type": "code",
   "execution_count": 16,
   "id": "afe21266",
   "metadata": {
    "execution": {
     "iopub.execute_input": "2023-09-05T10:32:36.976276Z",
     "iopub.status.busy": "2023-09-05T10:32:36.975905Z",
     "iopub.status.idle": "2023-09-05T10:32:36.993026Z",
     "shell.execute_reply": "2023-09-05T10:32:36.991866Z"
    },
    "papermill": {
     "duration": 0.028632,
     "end_time": "2023-09-05T10:32:36.995465",
     "exception": false,
     "start_time": "2023-09-05T10:32:36.966833",
     "status": "completed"
    },
    "tags": []
   },
   "outputs": [],
   "source": [
    "model01.compile(loss=\"mean_squared_error\",optimizer=tf.keras.optimizers.Adam(),metrics=['mae'])"
   ]
  },
  {
   "cell_type": "code",
   "execution_count": 17,
   "id": "fdd77b24",
   "metadata": {
    "execution": {
     "iopub.execute_input": "2023-09-05T10:32:37.013595Z",
     "iopub.status.busy": "2023-09-05T10:32:37.012538Z",
     "iopub.status.idle": "2023-09-05T10:33:59.594755Z",
     "shell.execute_reply": "2023-09-05T10:33:59.593495Z"
    },
    "papermill": {
     "duration": 82.651203,
     "end_time": "2023-09-05T10:33:59.654586",
     "exception": false,
     "start_time": "2023-09-05T10:32:37.003383",
     "status": "completed"
    },
    "tags": []
   },
   "outputs": [
    {
     "name": "stdout",
     "output_type": "stream",
     "text": [
      "Epoch 1/20\n",
      "180/180 [==============================] - 3s 15ms/step - loss: 0.6983 - mae: 0.6521 - val_loss: 0.6083 - val_mae: 0.5910\n",
      "Epoch 2/20\n",
      "180/180 [==============================] - 2s 14ms/step - loss: 0.4958 - mae: 0.5436 - val_loss: 0.5467 - val_mae: 0.5553\n",
      "Epoch 3/20\n",
      "180/180 [==============================] - 3s 14ms/step - loss: 0.4224 - mae: 0.5006 - val_loss: 0.5208 - val_mae: 0.5477\n",
      "Epoch 4/20\n",
      "180/180 [==============================] - 3s 14ms/step - loss: 0.3713 - mae: 0.4663 - val_loss: 0.5156 - val_mae: 0.5463\n",
      "Epoch 5/20\n",
      "180/180 [==============================] - 2s 14ms/step - loss: 0.3292 - mae: 0.4368 - val_loss: 0.5197 - val_mae: 0.5527\n",
      "Epoch 6/20\n",
      "180/180 [==============================] - 3s 14ms/step - loss: 0.2959 - mae: 0.4111 - val_loss: 0.5214 - val_mae: 0.5491\n",
      "Epoch 7/20\n",
      "180/180 [==============================] - 3s 15ms/step - loss: 0.2645 - mae: 0.3859 - val_loss: 0.5311 - val_mae: 0.5530\n",
      "Epoch 8/20\n",
      "180/180 [==============================] - 2s 13ms/step - loss: 0.2370 - mae: 0.3617 - val_loss: 0.5475 - val_mae: 0.5656\n",
      "Epoch 9/20\n",
      "180/180 [==============================] - 2s 14ms/step - loss: 0.2148 - mae: 0.3412 - val_loss: 0.5525 - val_mae: 0.5656\n",
      "Epoch 10/20\n",
      "180/180 [==============================] - 2s 14ms/step - loss: 0.1933 - mae: 0.3201 - val_loss: 0.5611 - val_mae: 0.5688\n",
      "Epoch 11/20\n",
      "180/180 [==============================] - 2s 14ms/step - loss: 0.1760 - mae: 0.3034 - val_loss: 0.5741 - val_mae: 0.5760\n",
      "Epoch 12/20\n",
      "180/180 [==============================] - 2s 14ms/step - loss: 0.1599 - mae: 0.2870 - val_loss: 0.5914 - val_mae: 0.5831\n",
      "Epoch 13/20\n",
      "180/180 [==============================] - 3s 14ms/step - loss: 0.1462 - mae: 0.2711 - val_loss: 0.5956 - val_mae: 0.5881\n",
      "Epoch 14/20\n",
      "180/180 [==============================] - 3s 14ms/step - loss: 0.1335 - mae: 0.2565 - val_loss: 0.6079 - val_mae: 0.5962\n",
      "Epoch 15/20\n",
      "180/180 [==============================] - 3s 15ms/step - loss: 0.1246 - mae: 0.2466 - val_loss: 0.6226 - val_mae: 0.6004\n",
      "Epoch 16/20\n",
      "180/180 [==============================] - 3s 14ms/step - loss: 0.1145 - mae: 0.2342 - val_loss: 0.6340 - val_mae: 0.6047\n",
      "Epoch 17/20\n",
      "180/180 [==============================] - 3s 14ms/step - loss: 0.1059 - mae: 0.2238 - val_loss: 0.6403 - val_mae: 0.6062\n",
      "Epoch 18/20\n",
      "180/180 [==============================] - 3s 14ms/step - loss: 0.0993 - mae: 0.2157 - val_loss: 0.6591 - val_mae: 0.6172\n",
      "Epoch 19/20\n",
      "180/180 [==============================] - 2s 13ms/step - loss: 0.0923 - mae: 0.2068 - val_loss: 0.6649 - val_mae: 0.6180\n",
      "Epoch 20/20\n",
      "180/180 [==============================] - 2s 13ms/step - loss: 0.0868 - mae: 0.1997 - val_loss: 0.6735 - val_mae: 0.6222\n"
     ]
    },
    {
     "data": {
      "text/plain": [
       "<keras.callbacks.History at 0x7fd585f5c610>"
      ]
     },
     "execution_count": 17,
     "metadata": {},
     "output_type": "execute_result"
    }
   ],
   "source": [
    "model01.fit(X_train, y_train, epochs=20, validation_data=(X_eval, y_eval))"
   ]
  },
  {
   "cell_type": "code",
   "execution_count": 18,
   "id": "ea625899",
   "metadata": {
    "execution": {
     "iopub.execute_input": "2023-09-05T10:33:59.773303Z",
     "iopub.status.busy": "2023-09-05T10:33:59.772952Z",
     "iopub.status.idle": "2023-09-05T10:34:00.524716Z",
     "shell.execute_reply": "2023-09-05T10:34:00.523338Z"
    },
    "papermill": {
     "duration": 0.814201,
     "end_time": "2023-09-05T10:34:00.527101",
     "exception": false,
     "start_time": "2023-09-05T10:33:59.712900",
     "status": "completed"
    },
    "tags": []
   },
   "outputs": [
    {
     "name": "stdout",
     "output_type": "stream",
     "text": [
      "180/180 [==============================] - 1s 3ms/step\n"
     ]
    }
   ],
   "source": [
    "predictions=model01.predict(X_train)"
   ]
  }
 ],
 "kernelspec": {
  "display_name": "Python 3",
  "language": "python",
  "name": "python3"
 },
 "language_info": {
  "codemirror_mode": {
   "name": "ipython",
   "version": 3
  },
  "file_extension": ".py",
  "mimetype": "text/x-python",
  "name": "python",
  "nbconvert_exporter": "python",
  "pygments_lexer": "ipython3",
  "version": "3.6.4"
 },
 "metadata": {
  "kernelspec": {
   "display_name": "Python 3",
   "language": "python",
   "name": "python3"
  },
  "language_info": {
   "codemirror_mode": {
    "name": "ipython",
    "version": 3
   },
   "file_extension": ".py",
   "mimetype": "text/x-python",
   "name": "python",
   "nbconvert_exporter": "python",
   "pygments_lexer": "ipython3",
   "version": "3.10.12"
  },
  "papermill": {
   "default_parameters": {},
   "duration": 109.562371,
   "end_time": "2023-09-05T10:34:02.945259",
   "environment_variables": {},
   "exception": null,
   "input_path": "__notebook__.ipynb",
   "output_path": "__notebook__.ipynb",
   "parameters": {},
   "start_time": "2023-09-05T10:32:13.382888",
   "version": "2.4.0"
  }
 },
 "nbformat": 4,
 "nbformat_minor": 5
}
