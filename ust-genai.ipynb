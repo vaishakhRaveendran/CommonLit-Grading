{
 "cells": [
  {
   "cell_type": "code",
   "execution_count": 1,
   "id": "0f925313",
   "metadata": {
    "_cell_guid": "b1076dfc-b9ad-4769-8c92-a6c4dae69d19",
    "_uuid": "8f2839f25d086af736a60e9eeb907d3b93b6e0e5",
    "execution": {
     "iopub.execute_input": "2023-08-31T10:36:53.825962Z",
     "iopub.status.busy": "2023-08-31T10:36:53.825305Z",
     "iopub.status.idle": "2023-08-31T10:36:53.849282Z",
     "shell.execute_reply": "2023-08-31T10:36:53.847932Z"
    },
    "papermill": {
     "duration": 0.036859,
     "end_time": "2023-08-31T10:36:53.852433",
     "exception": false,
     "start_time": "2023-08-31T10:36:53.815574",
     "status": "completed"
    },
    "tags": []
   },
   "outputs": [
    {
     "name": "stdout",
     "output_type": "stream",
     "text": [
      "/kaggle/input/commonlit-evaluate-student-summaries/sample_submission.csv\n",
      "/kaggle/input/commonlit-evaluate-student-summaries/prompts_train.csv\n",
      "/kaggle/input/commonlit-evaluate-student-summaries/summaries_test.csv\n",
      "/kaggle/input/commonlit-evaluate-student-summaries/summaries_train.csv\n",
      "/kaggle/input/commonlit-evaluate-student-summaries/prompts_test.csv\n"
     ]
    }
   ],
   "source": [
    "# This Python 3 environment comes with many helpful analytics libraries installed\n",
    "# It is defined by the kaggle/python Docker image: https://github.com/kaggle/docker-python\n",
    "# For example, here's several helpful packages to load\n",
    "\n",
    "import numpy as np # linear algebra\n",
    "import pandas as pd # data processing, CSV file I/O (e.g. pd.read_csv)\n",
    "\n",
    "# Input data files are available in the read-only \"../input/\" directory\n",
    "# For example, running this (by clicking run or pressing Shift+Enter) will list all files under the input directory\n",
    "\n",
    "import os\n",
    "for dirname, _, filenames in os.walk('/kaggle/input'):\n",
    "    for filename in filenames:\n",
    "        print(os.path.join(dirname, filename))\n",
    "\n",
    "# You can write up to 20GB to the current directory (/kaggle/working/) that gets preserved as output when you create a version using \"Save & Run All\" \n",
    "# You can also write temporary files to /kaggle/temp/, but they won't be saved outside of the current session"
   ]
  },
  {
   "cell_type": "code",
   "execution_count": 2,
   "id": "14475ac3",
   "metadata": {
    "execution": {
     "iopub.execute_input": "2023-08-31T10:36:53.867599Z",
     "iopub.status.busy": "2023-08-31T10:36:53.866239Z",
     "iopub.status.idle": "2023-08-31T10:36:53.875602Z",
     "shell.execute_reply": "2023-08-31T10:36:53.874042Z"
    },
    "papermill": {
     "duration": 0.019973,
     "end_time": "2023-08-31T10:36:53.878670",
     "exception": false,
     "start_time": "2023-08-31T10:36:53.858697",
     "status": "completed"
    },
    "tags": []
   },
   "outputs": [],
   "source": [
    "def print_tuple(obs):\n",
    "    print(\"\\033[1mprompt_question: \\033[0m\", obs.prompt_question)\n",
    "    print()\n",
    "    print(\"\\033[1mprompt_title: \\033[0m\", obs.prompt_title)\n",
    "    print()\n",
    "    print(\"\\033[1mprompt_text: \\033[0m\")\n",
    "    print(obs.prompt_text)\n",
    "    print()\n",
    "    print(\"\\033[1msummary: \\033[0m\")\n",
    "    print(obs.text)\n",
    "    print()\n",
    "    print(\"\\033[1mWording: \\033[0m\")\n",
    "    print(obs.wording)\n",
    "    print()\n",
    "    print(\"\\033[1mContent: \\033[0m\")\n",
    "    print(obs.content)\n",
    "    "
   ]
  },
  {
   "cell_type": "code",
   "execution_count": 3,
   "id": "30a0641f",
   "metadata": {
    "execution": {
     "iopub.execute_input": "2023-08-31T10:36:53.893098Z",
     "iopub.status.busy": "2023-08-31T10:36:53.892376Z",
     "iopub.status.idle": "2023-08-31T10:36:54.067082Z",
     "shell.execute_reply": "2023-08-31T10:36:54.065960Z"
    },
    "papermill": {
     "duration": 0.18579,
     "end_time": "2023-08-31T10:36:54.070414",
     "exception": false,
     "start_time": "2023-08-31T10:36:53.884624",
     "status": "completed"
    },
    "tags": []
   },
   "outputs": [],
   "source": [
    "#Filepath\n",
    "FILE_PATH='/kaggle/input/commonlit-evaluate-student-summaries'\n",
    "#train set\n",
    "pmt_train=pd.read_csv(os.path.join(FILE_PATH,'prompts_train.csv'))\n",
    "sum_train=pd.read_csv(os.path.join(FILE_PATH,'summaries_train.csv'))\n",
    "df_train=pmt_train.merge(sum_train,how='inner',on='prompt_id')"
   ]
  },
  {
   "cell_type": "code",
   "execution_count": 4,
   "id": "2f9505ce",
   "metadata": {
    "execution": {
     "iopub.execute_input": "2023-08-31T10:36:54.085381Z",
     "iopub.status.busy": "2023-08-31T10:36:54.084433Z",
     "iopub.status.idle": "2023-08-31T10:36:54.093355Z",
     "shell.execute_reply": "2023-08-31T10:36:54.091249Z"
    },
    "papermill": {
     "duration": 0.019672,
     "end_time": "2023-08-31T10:36:54.096205",
     "exception": false,
     "start_time": "2023-08-31T10:36:54.076533",
     "status": "completed"
    },
    "tags": []
   },
   "outputs": [
    {
     "name": "stdout",
     "output_type": "stream",
     "text": [
      "\u001b[1mprompt_question: \u001b[0m Summarize at least 3 elements of an ideal tragedy, as described by Aristotle.\n",
      "\n",
      "\u001b[1mprompt_title: \u001b[0m On Tragedy\n",
      "\n",
      "\u001b[1mprompt_text: \u001b[0m\n",
      "Chapter 13 \r\n",
      "As the sequel to what has already been said, we must proceed to consider what the poet should aim at, and what he should avoid, in constructing his plots; and by what means the specific effect of Tragedy will be produced. \r\n",
      "A perfect tragedy should, as we have seen, be arranged not on the simple but on the complex plan. It should, moreover, imitate actions which excite pity and fear, this being the distinctive mark of tragic imitation. It follows plainly, in the first place, that the change of fortune presented must not be the spectacle of a virtuous man brought from prosperity to adversity: for this moves neither pity nor fear; it merely shocks us. Nor, again, that of a bad man passing from adversity to prosperity: for nothing can be more alien to the spirit of Tragedy; it possesses no single tragic quality; it neither satisfies the moral sense nor calls forth pity or fear. Nor, again, should the downfall of the utter villain be exhibited. A plot of this kind would, doubtless, satisfy the moral sense, but it would inspire neither pity nor fear; for pity is aroused by unmerited misfortune, fear by the misfortune of a man like ourselves. Such an event, therefore, will be neither pitiful nor terrible. There remains, then, the character between these two extremes — that of a man who is not eminently good and just, yet whose misfortune is brought about not by vice or depravity, but by some error of judgement or frailty. He must be one who is highly renowned and prosperous — a personage like Oedipus, Thyestes, or other illustrious men of such families. \r\n",
      "A well-constructed plot should, therefore, be single in its issue, rather than double as some maintain. The change of fortune should be not from bad to good, but, reversely, from good to bad. It should come about as the result not of vice, but of some great error or frailty, in a character either such as we have described, or better rather than worse. The practice of the stage bears out our view. At first the poets recounted any legend that came in their way. Now, the best tragedies are founded on the story of a few houses — on the fortunes of Alcmaeon, Oedipus, Orestes, Meleager, Thyestes, Telephus, and those others who have done or suffered something terrible. A tragedy, then, to be perfect according to the rules of art, should be of this construction. Hence they are in error who censure Euripides just because he follows this principle in his plays, many of which end unhappily. It is, as we have said, the right ending. The best proof is that on the stage and in dramatic competition, such plays, if well worked out, are the most tragic in effect; and Euripides, faulty though he may be in the general management of his subject, yet is felt to be the most tragic of the poets. \r\n",
      "In the second rank comes the kind of tragedy which some place first. Like the Odyssey, it has a double thread of plot, and also an opposite catastrophe for the good and for the bad. It is accounted the best because of the weakness of the spectators; for the poet is guided in what he writes by the wishes of his audience. The pleasure, however, thence derived is not the true tragic pleasure. It is proper rather to Comedy, where those who, in the piece, are the deadliest enemies — like Orestes and Aegisthus — quit the stage as friends at the close, and no one slays or is slain.\n",
      "\n",
      "\u001b[1msummary: \u001b[0m\n",
      "1 element of an ideal tragedy is that it should be arranged on a complex plan.  Another element of an ideal tragedy is that it should only have one main issue. The last element of an ideal tragedy is that it should have a double thread plot and an opposite catastrophe for both good and bad.\n",
      "\n",
      "\u001b[1mWording: \u001b[0m\n",
      "-0.471414826967448\n",
      "\n",
      "\u001b[1mContent: \u001b[0m\n",
      "-0.210613934166593\n"
     ]
    }
   ],
   "source": [
    "#df_train\n",
    "tuple1=df_train.iloc[0]\n",
    "print_tuple(tuple1)"
   ]
  },
  {
   "cell_type": "code",
   "execution_count": 5,
   "id": "67c43a64",
   "metadata": {
    "execution": {
     "iopub.execute_input": "2023-08-31T10:36:54.111070Z",
     "iopub.status.busy": "2023-08-31T10:36:54.110217Z",
     "iopub.status.idle": "2023-08-31T10:36:54.119160Z",
     "shell.execute_reply": "2023-08-31T10:36:54.117570Z"
    },
    "papermill": {
     "duration": 0.020256,
     "end_time": "2023-08-31T10:36:54.122529",
     "exception": false,
     "start_time": "2023-08-31T10:36:54.102273",
     "status": "completed"
    },
    "tags": []
   },
   "outputs": [],
   "source": [
    "#we actually dont want student_id or prompt_id for training hence dropping those.\n",
    "df_train.drop(['student_id','prompt_id'],axis=1,inplace=True)"
   ]
  },
  {
   "cell_type": "markdown",
   "id": "a6e9b2ca",
   "metadata": {
    "papermill": {
     "duration": 0.005636,
     "end_time": "2023-08-31T10:36:54.134567",
     "exception": false,
     "start_time": "2023-08-31T10:36:54.128931",
     "status": "completed"
    },
    "tags": []
   },
   "source": [
    "### Tokenizing and preprocessing"
   ]
  },
  {
   "cell_type": "markdown",
   "id": "efb2918d",
   "metadata": {
    "papermill": {
     "duration": 0.005632,
     "end_time": "2023-08-31T10:36:54.146269",
     "exception": false,
     "start_time": "2023-08-31T10:36:54.140637",
     "status": "completed"
    },
    "tags": []
   },
   "source": [
    "We will be using tokenizers like Bert and RoBERTa"
   ]
  },
  {
   "cell_type": "code",
   "execution_count": 6,
   "id": "d518bc3d",
   "metadata": {
    "execution": {
     "iopub.execute_input": "2023-08-31T10:36:54.160364Z",
     "iopub.status.busy": "2023-08-31T10:36:54.159826Z",
     "iopub.status.idle": "2023-08-31T10:37:12.675235Z",
     "shell.execute_reply": "2023-08-31T10:37:12.673889Z"
    },
    "papermill": {
     "duration": 18.526217,
     "end_time": "2023-08-31T10:37:12.678433",
     "exception": false,
     "start_time": "2023-08-31T10:36:54.152216",
     "status": "completed"
    },
    "tags": []
   },
   "outputs": [
    {
     "name": "stderr",
     "output_type": "stream",
     "text": [
      "/opt/conda/lib/python3.10/site-packages/scipy/__init__.py:146: UserWarning: A NumPy version >=1.16.5 and <1.23.0 is required for this version of SciPy (detected version 1.23.5\n",
      "  warnings.warn(f\"A NumPy version >={np_minversion} and <{np_maxversion}\"\n",
      "/opt/conda/lib/python3.10/site-packages/tensorflow_io/python/ops/__init__.py:98: UserWarning: unable to load libtensorflow_io_plugins.so: unable to open file: libtensorflow_io_plugins.so, from paths: ['/opt/conda/lib/python3.10/site-packages/tensorflow_io/python/ops/libtensorflow_io_plugins.so']\n",
      "caused by: ['/opt/conda/lib/python3.10/site-packages/tensorflow_io/python/ops/libtensorflow_io_plugins.so: undefined symbol: _ZN3tsl6StatusC1EN10tensorflow5error4CodeESt17basic_string_viewIcSt11char_traitsIcEENS_14SourceLocationE']\n",
      "  warnings.warn(f\"unable to load libtensorflow_io_plugins.so: {e}\")\n",
      "/opt/conda/lib/python3.10/site-packages/tensorflow_io/python/ops/__init__.py:104: UserWarning: file system plugins are not loaded: unable to open file: libtensorflow_io.so, from paths: ['/opt/conda/lib/python3.10/site-packages/tensorflow_io/python/ops/libtensorflow_io.so']\n",
      "caused by: ['/opt/conda/lib/python3.10/site-packages/tensorflow_io/python/ops/libtensorflow_io.so: undefined symbol: _ZTVN10tensorflow13GcsFileSystemE']\n",
      "  warnings.warn(f\"file system plugins are not loaded: {e}\")\n"
     ]
    }
   ],
   "source": [
    "import numpy as np\n",
    "from string import Template\n",
    "import tqdm\n",
    "import torch\n",
    "\n",
    "from sklearn.decomposition import PCA\n",
    "\n",
    "from transformers import (BertTokenizer, BertModel , \n",
    "                         T5Tokenizer, T5ForConditionalGeneration , \n",
    "                         AutoModelForCausalLM, BitsAndBytesConfig, AutoTokenizer , \n",
    "                         AutoModel , DebertaModel , ElectraModel , \n",
    "                         RobertaModel , RobertaTokenizer)"
   ]
  }
 ],
 "kernelspec": {
  "display_name": "Python 3",
  "language": "python",
  "name": "python3"
 },
 "language_info": {
  "codemirror_mode": {
   "name": "ipython",
   "version": 3
  },
  "file_extension": ".py",
  "mimetype": "text/x-python",
  "name": "python",
  "nbconvert_exporter": "python",
  "pygments_lexer": "ipython3",
  "version": "3.6.4"
 },
 "metadata": {
  "kernelspec": {
   "display_name": "Python 3",
   "language": "python",
   "name": "python3"
  },
  "language_info": {
   "codemirror_mode": {
    "name": "ipython",
    "version": 3
   },
   "file_extension": ".py",
   "mimetype": "text/x-python",
   "name": "python",
   "nbconvert_exporter": "python",
   "pygments_lexer": "ipython3",
   "version": "3.10.12"
  },
  "papermill": {
   "default_parameters": {},
   "duration": 36.933825,
   "end_time": "2023-08-31T10:37:15.944694",
   "environment_variables": {},
   "exception": null,
   "input_path": "__notebook__.ipynb",
   "output_path": "__notebook__.ipynb",
   "parameters": {},
   "start_time": "2023-08-31T10:36:39.010869",
   "version": "2.4.0"
  }
 },
 "nbformat": 4,
 "nbformat_minor": 5
}
